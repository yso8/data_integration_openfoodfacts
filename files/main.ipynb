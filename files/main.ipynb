{
 "cells": [
  {
   "cell_type": "markdown",
   "metadata": {},
   "source": [
    "<h3>Étapes d'avancements</h3>\n",
    "Étape 1 : Nettoyage des données<br>\n",
    "Étape 2 : Importer les données dans une base de donnée <br>\n",
    "Étape 3 : Création de menu, et de profil d'utilisateur (catégorie)<br>\n",
    "Étape 4 : Importer ces nouvelles données dans la base de donnée <br>\n",
    "Étape 5 : Mettre en corrélation les aliments avec les menus & utilisateur <br>"
   ]
  },
  {
   "cell_type": "code",
   "execution_count": 22,
   "metadata": {},
   "outputs": [],
   "source": [
    "# Import nécessaires des packages \n",
    "import pandas as pd "
   ]
  },
  {
   "cell_type": "code",
   "execution_count": 23,
   "metadata": {},
   "outputs": [
    {
     "name": "stderr",
     "output_type": "stream",
     "text": [
      "C:\\Users\\Baptiste\\AppData\\Local\\Temp\\ipykernel_7492\\643984296.py:1: DtypeWarning: Columns (72) have mixed types. Specify dtype option on import or set low_memory=False.\n",
      "  df = pd.read_csv(\"../data/en.openfoodfacts.org.products.csv\", sep=\"\\t\", nrows=10000)\n"
     ]
    }
   ],
   "source": [
    "# Création d'un tableau en lisant le .csv fournit par openfoodfacts, en précisant le séparateur et le nombre de lignes car trop volumineux \n",
    "df = pd.read_csv(\"../data/en.openfoodfacts.org.products.csv\", sep=\"\\t\", nrows=10000)\n",
    "\n",
    "# On récupère les colonnes dans un fichier .csv pour pouvoir les consulter en entier\n",
    "# df.columns.to_series().to_csv(\"colonnes.csv\")\n",
    "\n"
   ]
  },
  {
   "cell_type": "code",
   "execution_count": null,
   "metadata": {},
   "outputs": [],
   "source": []
  }
 ],
 "metadata": {
  "kernelspec": {
   "display_name": "env",
   "language": "python",
   "name": "python3"
  },
  "language_info": {
   "codemirror_mode": {
    "name": "ipython",
    "version": 3
   },
   "file_extension": ".py",
   "mimetype": "text/x-python",
   "name": "python",
   "nbconvert_exporter": "python",
   "pygments_lexer": "ipython3",
   "version": "3.12.1"
  }
 },
 "nbformat": 4,
 "nbformat_minor": 2
}
