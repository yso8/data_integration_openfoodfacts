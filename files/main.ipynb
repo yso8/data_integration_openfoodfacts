{
 "cells": [
  {
   "cell_type": "markdown",
   "metadata": {},
   "source": [
    "## Explication de notre projet d'intégration des données\n",
    "### 🥘 - Différents type de régimes : \n",
    "<b>• Foodmap :</b> Favorise certains aliments contenant des glucides capable de fermenter dans l'intestin. <br>\n",
    "\n",
    "<b>• Méditerranéen :</b> Favorise l'équilibre alimentaire, pour privilégier la variété des aliments. <br>\n",
    "\n",
    "<b>• Dash (Dietary Approaches to Stopping Hypertension) :</b> Permet de combattre l'hypertension artérielle en modifiant les habitudes alimentaires.<br>\n",
    "\n",
    "<b>• À indice glycémique bas :</b> Régule le taux de sucre dans le sang en fonction des aliments et deux leur indice glycémique (IG).<br>\n",
    "\n",
    "<b>• Végétarien/Végétalisme :</b> Exclut toutes chaires animales / Exclut la consommation de tous produits d'origine animale.<br>\n",
    "\n",
    "<b>• Paléolithique :</b> Favorise la même alimentation que nos ancêtres, avant l'ère industrielle. <br>\n",
    "\n",
    "<b>• Cétogène :</b> Suppresion quasi complète des sucres et amidons(glucides).<br>\n",
    "\n",
    "### 👔 - Étapes d'avancements \n",
    "<b>• Étape 1 :</b> Importation des libraries et des données<br>\n",
    "\n",
    "<b>• Étape 2 :</b> Nettoyage des données importées<br>\n",
    "\n",
    "<b>• Étape 3 :</b> Génération des menus, en fonction des régimes alimentaires des utilisateurs<br>\n",
    "\n",
    "<b>• Étape 4 :</b> Extraction des données vers la base de données<br>"
   ]
  },
  {
   "cell_type": "markdown",
   "metadata": {},
   "source": [
    "### <b>Étape 1</b> : Importation des libraries et des données\n",
    "<hr/>\n",
    "\n",
    "### 📚 - Importation de les libraries nécessaires pour le code \n",
    "\n",
    "Les imports de PySpark, notamment SparkSession pour la gestion de la session et les fonctions col et expr pour la manipulation des DataFrames, ont été réalisés pour permettre des opérations efficaces sur les données."
   ]
  },
  {
   "cell_type": "code",
   "execution_count": 16,
   "metadata": {},
   "outputs": [],
   "source": [
    "# Import nécessaires des packages \n",
    "from pyspark.sql import SparkSession\n",
    "from pyspark.sql import Row\n",
    "from pyspark.sql.functions import col, expr\n",
    "import sqlite3"
   ]
  },
  {
   "cell_type": "markdown",
   "metadata": {},
   "source": [
    "### 💽 - Importation de l'ensemble des données \n",
    "\n",
    "L'ensemble des données a été importé et stocké dans des DataFrames distincts, facilitant ainsi la manipulation et l'analyse ultérieure des informations relatives aux produits alimentaires et aux pays."
   ]
  },
  {
   "cell_type": "code",
   "execution_count": 17,
   "metadata": {},
   "outputs": [],
   "source": [
    "# Création d'une session Spark, entrée principale pour intéragir avec pyspark\n",
    "spark = SparkSession.builder.appName(\"data_integration_openfoodfacts\").getOrCreate()\n",
    "\n",
    "# Importation des données openfoodfacts dans le dataframe, délimitation sur la tabulation et récupération de l'en-tête \n",
    "df_openfoodfacts = spark.read.option(\"delimiter\", \"\\t\").csv(\"../data/en.openfoodfacts.org.products.csv\", header=True, inferSchema=True)\n",
    "\n",
    "# Sélectionne seulement les colonnes qui nous intéressent pour la suite \n",
    "df_openfoodfacts = df_openfoodfacts.select([\"product_name\", \"brands\", \"categories\", \"countries\", \"energy-kcal_100g\", \"proteins_100g\", \"fat_100g\", \"carbohydrates_100g\"])\n",
    "\n",
    "# Importation des données de régimes \n",
    "df_diets = spark.read.csv(\"../data/diets.csv\", header=True, inferSchema=True)\n",
    "\n",
    "# Importation des données des utilisateurs \n",
    "df_users = spark.read.csv(\"../data/users.csv\", header=True, inferSchema=True)\n",
    "\n",
    "# Importation des données de tous les pays du mondes, pour pouvoir avoir un référentiel propre \n",
    "df_pays = spark.read.csv(\"../data/country.csv\", header=True, inferSchema=True)\n",
    "\n",
    "# Importation des données de jour, afin de décrire une semaine \n",
    "df_jours_semaine = spark.read.csv(\"../data/days.csv\", header=True, inferSchema=True)\n",
    "\n",
    "# Conserve seulement les colonnes qui nous intèresse pour la suite des traitements \n",
    "df_pays = df_pays.select([\"id\", \"country\"])"
   ]
  },
  {
   "cell_type": "markdown",
   "metadata": {},
   "source": [
    "### 📊 - Affichage du schéma du DataFrame avec colonnes et types de données\n",
    "\n",
    "Le schéma du DataFrame, affichant les colonnes ainsi que leurs types de données, a été affiché pour offrir une vue d'ensemble des informations structurées."
   ]
  },
  {
   "cell_type": "code",
   "execution_count": 18,
   "metadata": {},
   "outputs": [
    {
     "name": "stdout",
     "output_type": "stream",
     "text": [
      "root\n",
      " |-- product_name: string (nullable = true)\n",
      " |-- brands: string (nullable = true)\n",
      " |-- categories: string (nullable = true)\n",
      " |-- countries: string (nullable = true)\n",
      " |-- energy-kcal_100g: double (nullable = true)\n",
      " |-- proteins_100g: double (nullable = true)\n",
      " |-- fat_100g: double (nullable = true)\n",
      " |-- carbohydrates_100g: double (nullable = true)\n",
      "\n"
     ]
    }
   ],
   "source": [
    "# Affiche le schéma du dataframe, indiquant les colonnes et leurs types de données \n",
    "df_openfoodfacts.printSchema()"
   ]
  },
  {
   "cell_type": "markdown",
   "metadata": {},
   "source": [
    "### <b>Étape 2</b> : Nettoyage des données importées \n",
    "<hr/>\n",
    "\n",
    "### 🗑️ - Suppression des valeurs nulles\n",
    "\n",
    "Dans cette section, nous avons supprimé les lignes avec des valeurs nulles puis filtré les produits en veillant à ce que des colonnes clés ne contiennent pas de valeurs nulles, préservant ainsi l'intégrité des données. "
   ]
  },
  {
   "cell_type": "code",
   "execution_count": 19,
   "metadata": {},
   "outputs": [],
   "source": [
    "# Supprimer les lignes ayant des valeurs nulles \n",
    "df_openfoodfacts.dropna()\n",
    "\n",
    "# Filtrer les produits ayant des valeurs nulles \n",
    "df_openfoodfacts = df_openfoodfacts.filter(\n",
    "    col(\"product_name\").isNotNull() &\n",
    "    col(\"categories\").isNotNull() &\n",
    "    col(\"countries\").isNotNull() &\n",
    "    col(\"energy-kcal_100g\").isNotNull() &\n",
    "    col(\"proteins_100g\").isNotNull() &\n",
    "    col(\"fat_100g\").isNotNull() &\n",
    "    col(\"carbohydrates_100g\").isNotNull()\n",
    ")"
   ]
  },
  {
   "cell_type": "markdown",
   "metadata": {},
   "source": [
    "### 🗑️ - Suppresion des valeurs aberrantes\n",
    "\n",
    "Dans ce code, nous avons établi des plages de valeurs minimales et maximales pour certaines données d'intérêt. \n",
    "\n",
    "<b>Énergie (kcal/100g)</b> : Les valeurs caloriques par portion devraient se situer entre 0 kcal/100g (minimum) et 800 kcal/100g (maximum) pour être considérées comme non aberrantes.\n",
    "\n",
    "<b>Protéines (g/100g)</b> : La teneur en protéines par portion serait considérée comme non aberrante si elle se situe dans la plage de 1 g/100g (minimum) à 100 g/100g (maximum).\n",
    "\n",
    "<b>Graisses (g/100g)</b> : Les quantités de graisses par portion devraient être comprises entre un minimum de 0 g/100g et un maximum de 100 g/100g pour être considérées comme non aberrantes.\n",
    "\n",
    "<b>Glucides (g/100g)</b> : La teneur en glucides par portion serait jugée non aberrante si elle se situe entre 1 g/100g (minimum) et 80 g/100g (maximum)."
   ]
  },
  {
   "cell_type": "code",
   "execution_count": 20,
   "metadata": {},
   "outputs": [],
   "source": [
    "# Définir des valeurs spécifiques pour chaque colonne\n",
    "valeurs_specifiques = {\n",
    "    'energy-kcal_100g': (0, 800),\n",
    "    'proteins_100g': (1, 100),\n",
    "    'fat_100g': (0, 100),\n",
    "    'carbohydrates_100g': (1, 80)\n",
    "}\n",
    "\n",
    "# Filtrer les produits qui contiennent des valeurs aberrantes pour les informations nutritionnelles\n",
    "df_openfoodfacts = df_openfoodfacts.filter(\n",
    "    (col(\"energy-kcal_100g\") > valeurs_specifiques['energy-kcal_100g'][0]) &\n",
    "    (col(\"energy-kcal_100g\") <= valeurs_specifiques['energy-kcal_100g'][1]) &\n",
    "    (col(\"proteins_100g\") > valeurs_specifiques['proteins_100g'][0]) &\n",
    "    (col(\"proteins_100g\") <= valeurs_specifiques['proteins_100g'][1]) &\n",
    "    (col(\"fat_100g\") > valeurs_specifiques['fat_100g'][0]) &\n",
    "    (col(\"fat_100g\") <= valeurs_specifiques['fat_100g'][1]) &\n",
    "    (col(\"carbohydrates_100g\") > valeurs_specifiques['carbohydrates_100g'][0]) &\n",
    "    (col(\"carbohydrates_100g\") <= valeurs_specifiques['carbohydrates_100g'][1])\n",
    ")"
   ]
  },
  {
   "cell_type": "markdown",
   "metadata": {},
   "source": [
    " ### 🧶 - Consolidation des données \n",
    "\n",
    "Dans ce bout de code, on fusionne les informations des produits alimentaires avec les données spécifiques des pays via une jointure <b>\"left outer join\"</b>. \n",
    "\n",
    "Ensuite on sélectionne les colonnes pertinentes, filtre les produits sans correspondance dans les pays, et élimine les doublons.</p>"
   ]
  },
  {
   "cell_type": "code",
   "execution_count": 21,
   "metadata": {},
   "outputs": [
    {
     "name": "stdout",
     "output_type": "stream",
     "text": [
      "+--------------------+--------------------+--------------------+--------------------+----------------+-------------+--------+------------------+\n",
      "|        product_name|              brands|          categories|           countries|energy-kcal_100g|proteins_100g|fat_100g|carbohydrates_100g|\n",
      "+--------------------+--------------------+--------------------+--------------------+----------------+-------------+--------+------------------+\n",
      "| Filet de merlu c...|    Très bien merci!|Plats préparés, P...|              France|            68.0|          7.9|     2.1|               4.3|\n",
      "|&quot;CRISPY&quot...|              Melvit|Növényi alapú éle...|        Magyarország|           457.0|         20.0|    29.0|              20.0|\n",
      "|&quot;La Traditio...|  Crêperie Le Masson|Crêpes et galette...|              France|           320.0|          7.0|     4.2|              64.0|\n",
      "|&quot;Les Mijotés...|                NULL|Viandes et dérivé...|              France|           150.0|         21.0|     7.1|               1.1|\n",
      "|&quot;biscuit Mix...|                Gunz|Snacks, Snacks su...|              France|           492.0|          6.0|    22.3|              65.1|\n",
      "|'A Calamarata rigata|La fabbrica della...|Cibi e bevande a ...|               en:it|           350.0|         13.0|     1.0|              73.0|\n",
      "|              'Nduja|Terre d'Italia, C...|Prodotti a base d...|       France, italy|           604.0|          5.9|    60.0|               9.6|\n",
      "|  'Nduja di Spilinga|       Fattoria Sila|Prodotti a base d...|           en:France|           640.0|          6.0|    60.0|              19.0|\n",
      "|'e Matasse Taglia...|La fabbrica della...|Cibi e bevande a ...|               en:it|           350.0|         13.0|     1.0|              73.0|\n",
      "|'nana chips, blaz...|                NULL|              Snacks|France, United St...|           567.0|         3.33|   33.33|              50.0|\n",
      "|*Butter Spritzgeb...|Alnatura, Alnatur...|Imbiss, Süßer Sna...|         en:fr, Welt|           466.0|          5.9|    23.0|              58.0|\n",
      "|*Dinkel Mandel Sp...|Alnatura, Alnatur...|Imbiss, Süßer Sna...|Deutschland,Schwe...|           486.0|          7.4|    24.0|              59.0|\n",
      "|*Mini Schoko Lebk...|Alnatura,Bio, Aln...|Imbiss, Süßer Sna...|Frankreich,Deutsc...|           422.0|          8.0|    16.0|              58.0|\n",
      "|*Mini Vollmilch E...|Alnatura, Alnatur...|Kakao und Kakaopr...|       Germany, Welt|           561.0|          8.0|    37.0|              48.0|\n",
      "|*Mohn Marzipan Ko...|Alnatura, Alnatur...|Pflanzliche Leben...|Deutschland,Schwe...|           476.0|          7.7|    25.0|              53.0|\n",
      "|*Zartbitter Hase ...|Alnatura, Alnatur...|Imbiss, Süßer Sna...|     Allemagne, Welt|           587.0|          7.6|    45.0|              33.0|\n",
      "|   + Proteínas Fresa| Hacendado,Schreiber|             Lácteos|    Portugal,Espanha|            51.0|          7.1|     0.4|               4.8|\n",
      "|, Olives noires a...|Bouton d'Or,Inter...|Aliments et boiss...|              France|           349.0|          2.0|    34.6|               4.5|\n",
      "|          0% Chorizo|           Compasión|en:Meat alternati...|              España|           409.0|         14.4|    31.4|              15.8|\n",
      "|0% FAT Greek styl...|Marks & Spencer,M...|Produits laitiers...|              France|           101.0|          4.8|     2.2|              14.9|\n",
      "+--------------------+--------------------+--------------------+--------------------+----------------+-------------+--------+------------------+\n",
      "only showing top 20 rows\n",
      "\n"
     ]
    }
   ],
   "source": [
    "# Effectuer une jointure left outer join\n",
    "joined_df = df_openfoodfacts.join(df_pays, df_openfoodfacts[\"countries\"] == df_pays[\"country\"], \"left_outer\")\n",
    "\n",
    "# Sélectionner les colonnes qui nous intéressent et filtrer les lignes où il n'y a pas de correspondance dans df_pays\n",
    "df_openfoodfacts = joined_df.select([\"product_name\", \"brands\", \"categories\", \"countries\", \"energy-kcal_100g\", \"proteins_100g\", \"fat_100g\", \"carbohydrates_100g\"]).filter(col(\"countries\").isNotNull())\n",
    "\n",
    "# Supprimer les doublons\n",
    "df_openfoodfacts = df_openfoodfacts.dropDuplicates([\"product_name\", \"countries\"])\n",
    "\n",
    "# Afficher le dataframe \n",
    "df_openfoodfacts.show()"
   ]
  },
  {
   "cell_type": "markdown",
   "metadata": {},
   "source": [
    "### <b>Étape 3</b> : Génération des menus, en fonction des régimes alimentaires des utilisateurs\n",
    "<hr/>\n",
    "\n",
    " ### 🍲 - Création des menus\n",
    "\n",
    "Dans ce bout de code, on génère un petit-déjeuner, un déjeuner et un dîner pour chaque jour de la semaine par utilisateurs. En fonction de son régime alimentaire."
   ]
  },
  {
   "cell_type": "code",
   "execution_count": 22,
   "metadata": {},
   "outputs": [],
   "source": [
    "# Liste pour stocker les résultats\n",
    "weekly_menu = []\n",
    "\n",
    "# Boucle pour chaque utilisateur\n",
    "for utilisateur in df_users.collect():\n",
    "    # Récupérer les valeurs spécifiques au régime dans le DataFrame des régimes\n",
    "    regime_utilisateur = df_diets.filter(col(\"Diet_type\") == utilisateur[\"diet\"]).first()\n",
    "    \n",
    "    # Boucle pour chaque jour de la semaine\n",
    "    for jour in df_jours_semaine.collect():\n",
    "        # Filtrer les produits disponibles qui respectent les valeurs du régime alimentaire\n",
    "        filtered_products = df_openfoodfacts.filter(\n",
    "            (col(\"carbohydrates_100g\") <= regime_utilisateur[\"carbohydrates_100g\"]) &\n",
    "            (col(\"proteins_100g\") >= regime_utilisateur[\"proteins_100g\"]) &\n",
    "            (col(\"fat_100g\") <= regime_utilisateur[\"fat_100g\"]) &\n",
    "            (col(\"energy-kcal_100g\") <= regime_utilisateur[\"energy-kcal_100g\"])\n",
    "        )\n",
    "\n",
    "        # Récupération des produits pour chaques repas de la journée \n",
    "        breakfast = filtered_products.sample(withReplacement=False, fraction=0.1).first()\n",
    "        lunch = filtered_products.sample(withReplacement=False, fraction=0.1).first()\n",
    "        dinner = filtered_products.sample(withReplacement=False, fraction=0.1).first()\n",
    "\n",
    "            # Création de l'objet récupéré par la suite contenant l'ensemble des informations \n",
    "        daily_menu = {\n",
    "            \"id_user\": utilisateur[\"id\"],\n",
    "            \"day\": jour[\"day\"],\n",
    "            \"breakfast\": breakfast.product_name,\n",
    "            \"lunch\": lunch.product_name,\n",
    "            \"dinner\": dinner.product_name\n",
    "        }\n",
    "\n",
    "        # Ajoute le menu dans la liste des menus globales \n",
    "        weekly_menu.append(daily_menu)"
   ]
  },
  {
   "cell_type": "markdown",
   "metadata": {},
   "source": [
    "### <b>Étape 4</b> : Insertion des menus dans la base de données, étape d'extraction\n",
    "<hr/>\n",
    "\n",
    " ### 📉 - Extraction des données \n",
    "\n",
    "Ici, on extrait les données dans la base de données, on se connecte on insère puis déconnexion."
   ]
  },
  {
   "cell_type": "code",
   "execution_count": 23,
   "metadata": {},
   "outputs": [],
   "source": [
    "# Connexion à la base de données sqlite3\n",
    "conn = sqlite3.connect('../weekly_menu.db')\n",
    "\n",
    "# Création d'un curseur\n",
    "cursor = conn.cursor()\n",
    "\n",
    "# Définir la commande SQL d'insertion\n",
    "insert_command = '''\n",
    "INSERT INTO daily_menu (id_user, day, breakfast, lunch, dinner)\n",
    "VALUES (?, ?, ?, ?, ?);\n",
    "'''\n",
    "\n",
    "# Utiliser une transaction pour regrouper les insertions\n",
    "try:\n",
    "    for menu in weekly_menu:\n",
    "        # Exécuter la commande SQL avec les données à insérer \n",
    "        cursor.execute(insert_command, (menu['id_user'], menu['day'], menu['breakfast'], menu['lunch'], menu['dinner']))\n",
    "\n",
    "    # Commiter les changements à la fin de la transaction\n",
    "    conn.commit()\n",
    "\n",
    "except Exception as e:\n",
    "    # En cas d'erreur, annuler la transaction\n",
    "    conn.rollback()\n",
    "    print(f\"Une erreur s'est produite : {e}\")\n",
    "\n",
    "finally:\n",
    "    # Fermeture du curseur et de la connexion à la base de données \n",
    "    cursor.close()\n",
    "    conn.close()"
   ]
  },
  {
   "cell_type": "markdown",
   "metadata": {},
   "source": [
    " ### 🔚 - Fin des traitements\n",
    "\n",
    "Ensuite, on clos la session spark."
   ]
  },
  {
   "cell_type": "code",
   "execution_count": 6,
   "metadata": {},
   "outputs": [],
   "source": [
    "# Arrête la session Spark \n",
    "spark.stop()"
   ]
  }
 ],
 "metadata": {
  "kernelspec": {
   "display_name": "env",
   "language": "python",
   "name": "python3"
  },
  "language_info": {
   "codemirror_mode": {
    "name": "ipython",
    "version": 3
   },
   "file_extension": ".py",
   "mimetype": "text/x-python",
   "name": "python",
   "nbconvert_exporter": "python",
   "pygments_lexer": "ipython3",
   "version": "3.12.1"
  }
 },
 "nbformat": 4,
 "nbformat_minor": 2
}
